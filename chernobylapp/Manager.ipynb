{
 "cells": [
  {
   "cell_type": "markdown",
   "metadata": {},
   "source": [
    "# Manage data processing\n",
    "Architecture of the code :\n",
    "- sbttimport module : extract data from srt files to pandas dataframe\n",
    "- dataprocess module : processing data for NLP workflow\n",
    "- insightviz : visualize the data"
   ]
  },
  {
   "cell_type": "code",
   "execution_count": 1,
   "metadata": {},
   "outputs": [],
   "source": [
    "from sbttimport import Data_import\n",
    "from dataprocess import Process_NLP\n",
    "from insightviz import Viz_wordcloud"
   ]
  },
  {
   "cell_type": "code",
   "execution_count": 2,
   "metadata": {},
   "outputs": [],
   "source": [
    "data = Data_import(nb=1, lang=\"fr\")\n",
    "data = data.create_corpus()"
   ]
  },
  {
   "cell_type": "code",
   "execution_count": 3,
   "metadata": {},
   "outputs": [
    {
     "data": {
      "text/plain": [
       "list"
      ]
     },
     "execution_count": 3,
     "metadata": {},
     "output_type": "execute_result"
    }
   ],
   "source": [
    "type(data)"
   ]
  },
  {
   "cell_type": "code",
   "execution_count": 4,
   "metadata": {},
   "outputs": [
    {
     "data": {
      "text/plain": [
       "pandas.core.series.Series"
      ]
     },
     "execution_count": 4,
     "metadata": {},
     "output_type": "execute_result"
    }
   ],
   "source": [
    "type(data[0][\"sentence\"])"
   ]
  },
  {
   "cell_type": "code",
   "execution_count": 5,
   "metadata": {},
   "outputs": [],
   "source": [
    "nlp = Process_NLP(data[0][\"sentence\"])"
   ]
  },
  {
   "cell_type": "code",
   "execution_count": 6,
   "metadata": {},
   "outputs": [
    {
     "name": "stdout",
     "output_type": "stream",
     "text": [
      "[('pir', 4), ('histoir', 4), ('import', 5), ('diatlov', 5), ('homm', 4), ('nuit', 4), ('pass', 10), ('travail', 6), ('grand', 5), ('dir', 4), ('person', 7), ('sait', 4), ('rien', 9), ('dit', 10), ('toujour', 5), ('comm', 4), ('sais', 5), ('pripiat', 5), ('deux', 4), ('camarad', 8), ('sall', 4), ('réservoir', 11), ('contrôl', 10), ('hydrogen', 4), ('avez', 5), ('explos', 14), ('notr', 5), ('coeur', 15), ('barr', 5), ('consol', 4), ('pomp', 9), ('eau', 11), ('sort', 4), ('réacteur', 12), ('rbmk', 4), ('akimov', 7), ('temp', 4), ('va', 7), ('incend', 7), ('appel', 13), ('pompi', 4), ('allô', 5), ('entre', 4), ('quatr', 7), ('réveil', 5), ('déjà', 4), ('central', 13), ('nucléair', 6), ('toit', 6), ('feu', 5), ('ont', 4), ('autr', 6), ('dosimetr', 7), ('vais', 5), ('kodemtchouk', 5), ('trouv', 4), ('mont', 4), ('allez', 11), ('march', 4), ('baiss', 4), ('fonction', 4), ('faut', 7), ('voir', 4), ('vassil', 4), ('valv', 5), ('ouvr', 4), ('moi', 10), ('ête', 4), ('sûr', 8), ('arriv', 4), ('ira', 4), ('bien', 10), ('fomin', 4), ('heur', 7), ('ser', 6), ('parl', 5), ('iod', 4), ('test', 4), ('comit', 5), ('avon', 4), ('lui', 5), ('radiat', 5), ('vrai', 4)]\n"
     ]
    }
   ],
   "source": [
    "print(nlp.bag_of_words_fr())"
   ]
  },
  {
   "cell_type": "code",
   "execution_count": null,
   "metadata": {},
   "outputs": [],
   "source": [
    "viz = Viz_wordcloud(nlp.bag_of_words_fr())"
   ]
  },
  {
   "cell_type": "code",
   "execution_count": null,
   "metadata": {},
   "outputs": [],
   "source": [
    "viz.classic_word_cloud()"
   ]
  },
  {
   "cell_type": "code",
   "execution_count": 7,
   "metadata": {},
   "outputs": [],
   "source": [
    "import main"
   ]
  },
  {
   "cell_type": "code",
   "execution_count": 8,
   "metadata": {},
   "outputs": [],
   "source": [
    "orch = main.Orchestrator()"
   ]
  },
  {
   "cell_type": "code",
   "execution_count": 9,
   "metadata": {},
   "outputs": [
    {
     "name": "stdout",
     "output_type": "stream",
     "text": [
      "[('pir', 7), ('mensong', 14), ('dang', 6), ('entend', 8), ('reconnaîtr', 4), ('simpl', 8), ('histoir', 8), ('héros', 4), ('veut', 4), ('anatol', 4), ('dirig', 5), ('oper', 6), ('nuit', 7), ('amis', 4), ('enfin', 6), ('dix', 13), ('anné', 4), ('travail', 13), ('grand', 10), ('lieu', 8), ('pris', 4), ('an', 14), ('sait', 14), ('effet', 6), ('mond', 15), ('just', 5), ('sen', 5), ('bas', 6), ('voilà', 12), ('évident', 8), ('fer', 13), ('mieux', 8), ('pripiat', 10), ('ukrain', 7), ('urss', 4), ('minut', 12), ('lyudmill', 6), ('turbin', 10), ('brûl', 7), ('hydrogen', 5), ('urgenc', 5), ('calm', 4), ('refroid', 6), ('déconnect', 4), ('consol', 4), ('activ', 4), ('atteindr', 11), ('sort', 15), ('debr', 6), ('rbmk', 15), ('sach', 5), ('fall', 9), ('métal', 4), ('impossibl', 12), ('forc', 5), ('temp', 15), ('vid', 13), ('géner', 9), ('pompi', 14), ('allô', 5), ('entre', 15), ('gen', 13), ('plac', 4), ('réveil', 6), ('directeur', 5), ('demand', 12), ('aux', 9), ('feu', 13), ('e', 4), ('kiev', 9), ('air', 6), ('normal', 4), ('pens', 14), ('allum', 6), ('produit', 6), ('problem', 15), ('retourn', 6), ('guerr', 5), ('dosimetr', 11), ('maximum', 4), ('visag', 4), ('vais', 5), ('cherch', 5), ('kodemtchouk', 9), ('toi', 6), ('vien', 12), ('trouv', 15), ('évacu', 10), ('merd', 6), ('aller', 14), ('détruit', 4), ('mont', 10), ('accord', 14), ('as', 4), ('viktor', 7), ('peux', 9), ('march', 14), ('baiss', 10), ('haut', 10), ('comprend', 7), ('envoi', 9), ('main', 6), ('oubl', 5), ('suit', 7), ('vassil', 10), ('jou', 7), ('lanc', 9), ('vient', 7), ('valv', 5), ('ouvr', 9), ('port', 9), ('crois', 9), ('tromp', 4), ('suiv', 7), ('ignatenko', 9), ('pouss', 7), ('vit', 11), ('caus', 15), ('danger', 15), ('loin', 4), ('pardon', 11), ('grav', 4), ('jusqu', 9), ('ira', 8), ('repos', 4), ('assez', 15), ('pourr', 11), ('emmen', 11), ('tomb', 7), ('besoin', 10), ('médecin', 6), ('léger', 4), ('contamin', 10), ('extérieur', 4), ('équip', 7), ('combien', 13), ('dois', 11), ('répet', 5), ('rend', 4), ('brioukhanov', 13), ('fomin', 12), ('rapport', 12), ('complet', 7), ('encor', 14), ('demain', 4), ('san', 12), ('femm', 4), ('reçu', 9), ('celui', 11), ('iod', 8), ('cour', 8), ('soit', 6), ('test', 6), ('situat', 6), ('ferm', 4), ('avert', 4), ('comit', 14), ('devoir', 4), ('monsieur', 11), ('men', 8), ('endommag', 5), ('vic', 7), ('ingénieur', 9), ('chef', 9), ('assur', 7), ('const', 4), ('aliment', 11), ('six', 6), ('relev', 4), ('utilis', 6), ('membr', 6), ('ordre', 12), ('tourn', 5), ('atom', 10), ('approch', 6), ('magnif', 4), ('aid', 8), ('éteindr', 8), ('suff', 9), ('presqu', 9), ('électr', 8), ('million', 4), ('veux', 14), ('nombr', 8), ('leonid', 9), ('pri', 5), ('bomb', 5), ('sitnikov', 4), ('somm', 8), ('attaqu', 4), ('américain', 6), ('voi', 11), ('accident', 12), ('mal', 5), ('direct', 5), ('ministr', 10), ('adjoint', 4), ('gorbatchev', 4), ('secrétair', 8), ('général', 13), ('inform', 6), ('abord', 4), ('ensuit', 11), ('étant', 4), ('secret', 7), ('afin', 4), ('évit', 8), ('militair', 4), ('excus', 8), ('dehor', 5), ('certain', 9), ('enfant', 9), ('vill', 9), ('plaît', 6), ('croi', 8), ('cas', 15), ('nom', 7), ('lénin', 4), ('exact', 9), ('soir', 5), ('surtout', 5), ('peupl', 8), ('parfois', 4), ('peur', 4), ('récompens', 6), ('écout', 6), ('pos', 5), ('question', 9), ('intérêt', 5), ('coup', 6), ('ains', 7), ('empêch', 4), ('propr', 5), ('mesur', 5), ('bât', 9), ('moscou', 12), ('matériel', 4), ('fuit', 4), ('tour', 4), ('fusion', 9), ('aim', 6), ('stupid', 4), ('pu', 6), ('intérieur', 6), ('désol', 9), ('côt', 4), ('allon', 5), ('raison', 10), ('valer', 15), ('kourtchatov', 9), ('énerg', 13), ('chtcherbin', 12), ('bureau', 4), ('éteint', 7), ('continu', 7), ('vois', 8), ('cré', 9), ('commiss', 5), ('tard', 6), ('niveau', 5), ('compr', 7), ('adapt', 5), ('colin', 5), ('magaud', 5), ('biéloruss', 11), ('minsk', 5), ('refus', 7), ('ven', 7), ('venu', 5), ('chaud', 7), ('fission', 4), ('ulan', 7), ('éventr', 4), ('nouvel', 5), ('saur', 5), ('dessus', 9), ('sol', 11), ('prêt', 8), ('commenc', 11), ('nécessair', 5), ('stabl', 4), ('pikalov', 4), ('risqu', 8), ('dev', 10), ('charkov', 6), ('kgb', 8), ('réuss', 5), ('proteg', 7), ('sembl', 6), ('séanc', 5), ('lev', 5), ('voic', 6), ('dout', 4), ('pag', 4), ('victim', 4), ('noir', 5), ('affirm', 7), ('inquiet', 4), ('avaient', 4), ('entendu', 4), ('officiel', 7), ('puis', 5), ('autoris', 10), ('ball', 13), ('travers', 4), ('béton', 9), ('retrouv', 4), ('moment', 9), ('vent', 6), ('radioact', 8), ('décis', 8), ('jet', 6), ('tel', 8), ('neutron', 5), ('uranium', 6), ('touch', 6), ('liber', 4), ('énorm', 4), ('quantit', 4), ('chanc', 7), ('entrent', 4), ('ralent', 7), ('mar', 5), ('malad', 5), ('regard', 6), ('sang', 5), ('survol', 5), ('exécut', 4), ('commun', 5), ('reven', 4), ('scientif', 13), ('mer', 4), ('expos', 4), ('milli', 6), ('dis', 6), ('physicien', 6), ('tant', 4), ('possibl', 7), ('con', 4), ('camion', 5), ('plomb', 8), ('vos', 6), ('signif', 5), ('chaqu', 7), ('semain', 9), ('mois', 10), ('poison', 4), ('compren', 8), ('chaleur', 9), ('pouvon', 4), ('aujourd', 4), ('hui', 4), ('sabl', 6), ('solut', 8), ('faudr', 14), ('largag', 4), ('beaucoup', 8), ('pres', 4), ('fais', 11), ('fum', 4), ('moin', 11), ('décid', 8), ('command', 5), ('doivent', 4), ('metr', 8), ('hélico', 6), ('signal', 9), ('ouest', 5), ('longtemp', 6), ('veulent', 4), ('devon', 5), ('post', 7), ('mis', 4), ('idé', 4), ('erreur', 6), ('températur', 6), ('socl', 8), ('pénetr', 4), ('biolog', 4), ('ballon', 4), ('imagin', 9), ('plein', 7), ('présent', 7), ('dur', 4), ('parc', 8), ('lav', 4), ('avais', 6), ('napp', 5), ('phréatiqu', 4), ('savon', 4), ('estim', 4), ('seront', 7), ('coût', 4), ('vi', 13), ('product', 4), ('total', 4), ('pend', 5), ('vann', 4), ('entrer', 4), ('promot', 4), ('point', 4), ('enceint', 4), ('attend', 9), ('échapp', 4), ('douc', 5), ('attent', 5), ('principal', 4), ('échangeur', 4), ('union', 10), ('exclus', 5), ('termin', 14), ('immédiat', 7), ('faibl', 4), ('suffis', 5), ('auron', 4), ('esper', 5), ('découvr', 6), ('second', 7), ('russ', 4), ('tir', 8), ('empoison', 5), ('kremlin', 4), ('mineur', 5), ('boulot', 4), ('creus', 5), ('douz', 4), ('respir', 4), ('racont', 6), ('éti', 7), ('étais', 8), ('occup', 7), ('appui', 4), ('héroïqu', 4), ('posit', 5), ('entier', 6), ('animal', 4), ('dont', 4), ('dizain', 4), ('manqu', 5), ('compt', 4), ('fut', 4), ('idiot', 4), ('tôt', 4), ('défaut', 5), ('mission', 5), ('soldat', 5), ('allemand', 7), ('afghanistan', 4), ('robot', 7), ('mach', 4), ('diminu', 8), ('facil', 4), ('trou', 4), ('coefficient', 6), ('exist', 5), ('regl', 7), ('catastroph', 7), ('terrain', 4), ('agir', 4), ('instruct', 4), ('retir', 5), ('volkov', 4), ('remont', 5), ('extrem', 5), ('équilibr', 4), ('bouton', 4), ('humain', 4), ('proces', 6), ('jury', 4), ('peuvent', 4), ('derni', 5), ('traval', 4), ('transform', 4), ('lorsqu', 6), ('report', 4), ('stoliartchouk', 4), ('kirschenbaum', 4), ('system', 4), ('xénon', 9), ('juif', 4), ('vivr', 4), ('moqu', 5), ('ment', 4), ('témoignag', 4)]\n"
     ]
    }
   ],
   "source": [
    "orch.run()"
   ]
  },
  {
   "cell_type": "code",
   "execution_count": null,
   "metadata": {},
   "outputs": [],
   "source": []
  }
 ],
 "metadata": {
  "kernelspec": {
   "display_name": "Python 3",
   "language": "python",
   "name": "python3"
  },
  "language_info": {
   "codemirror_mode": {
    "name": "ipython",
    "version": 3
   },
   "file_extension": ".py",
   "mimetype": "text/x-python",
   "name": "python",
   "nbconvert_exporter": "python",
   "pygments_lexer": "ipython3",
   "version": "3.6.4"
  }
 },
 "nbformat": 4,
 "nbformat_minor": 2
}
